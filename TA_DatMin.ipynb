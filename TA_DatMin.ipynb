{
  "nbformat": 4,
  "nbformat_minor": 0,
  "metadata": {
    "colab": {
      "provenance": [],
      "authorship_tag": "ABX9TyMEd2Gg7MMSMFUv1ZBMCQv+",
      "include_colab_link": true
    },
    "kernelspec": {
      "name": "python3",
      "display_name": "Python 3"
    },
    "language_info": {
      "name": "python"
    }
  },
  "cells": [
    {
      "cell_type": "markdown",
      "metadata": {
        "id": "view-in-github",
        "colab_type": "text"
      },
      "source": [
        "<a href=\"https://colab.research.google.com/github/herlindaaa/TA-Data-Mining/blob/main/TA_DatMin.ipynb\" target=\"_parent\"><img src=\"https://colab.research.google.com/assets/colab-badge.svg\" alt=\"Open In Colab\"/></a>"
      ]
    },
    {
      "cell_type": "code",
      "execution_count": null,
      "metadata": {
        "id": "yQOXZx-wDjOs"
      },
      "outputs": [],
      "source": [
        "import numpy as np\n",
        "import pandas as pd\n",
        "from sklearn.preprocessing import StandardScaler\n",
        "from sklearn.cluster import KMeans\n",
        "from sklearn.metrics import silhouette_score"
      ]
    },
    {
      "cell_type": "code",
      "source": [
        "data = pd.read_csv('malaria-deaths-by-age.csv')"
      ],
      "metadata": {
        "id": "gdQtmgrTDq4L"
      },
      "execution_count": null,
      "outputs": []
    },
    {
      "cell_type": "code",
      "source": [
        "data = data.dropna()"
      ],
      "metadata": {
        "id": "BEeJMCcbDzAD"
      },
      "execution_count": null,
      "outputs": []
    },
    {
      "cell_type": "code",
      "source": [
        "data = data.drop_duplicates()"
      ],
      "metadata": {
        "id": "5eL8KE4PD1nC"
      },
      "execution_count": null,
      "outputs": []
    },
    {
      "cell_type": "code",
      "source": [
        "data = data.drop('Code', axis = 1)"
      ],
      "metadata": {
        "id": "9fKjPg7OD5b0"
      },
      "execution_count": null,
      "outputs": []
    },
    {
      "cell_type": "code",
      "source": [
        "data = pd.get_dummies(data, columns=['Entity'])"
      ],
      "metadata": {
        "id": "n5vOTrKCEILM"
      },
      "execution_count": null,
      "outputs": []
    },
    {
      "cell_type": "code",
      "source": [
        "scaler = StandardScaler()\n",
        "data_normalized = scaler.fit_transform(data)"
      ],
      "metadata": {
        "id": "EgFIKr_qEQkf"
      },
      "execution_count": null,
      "outputs": []
    },
    {
      "cell_type": "code",
      "source": [
        "max_clusters = 5\n",
        "best_score = -1\n",
        "best_num_clusters = 2\n",
        "\n",
        "for n_clusters in range(2, max_clusters+1):\n",
        "  kmeans = KMeans(n_clusters = n_clusters)\n",
        "  cluster_labels = kmeans.fit_predict(data_normalized)\n",
        "  silhouette_avg = silhouette_score(data_normalized, cluster_labels)\n",
        "\n",
        "  if silhouette_avg > best_score:\n",
        "    best_score = silhouette_avg\n",
        "    best_num_clusters = n_clusters\n",
        "\n",
        "print(\"Jumlah cluster terbaik berdasarkan silhouette score :\", best_num_clusters)"
      ],
      "metadata": {
        "colab": {
          "base_uri": "https://localhost:8080/"
        },
        "id": "NUA8Su9FEXva",
        "outputId": "bf0abc23-73c8-4819-bef3-5f567faf963a"
      },
      "execution_count": null,
      "outputs": [
        {
          "output_type": "stream",
          "name": "stderr",
          "text": [
            "/usr/local/lib/python3.10/dist-packages/sklearn/cluster/_kmeans.py:870: FutureWarning: The default value of `n_init` will change from 10 to 'auto' in 1.4. Set the value of `n_init` explicitly to suppress the warning\n",
            "  warnings.warn(\n",
            "/usr/local/lib/python3.10/dist-packages/sklearn/cluster/_kmeans.py:870: FutureWarning: The default value of `n_init` will change from 10 to 'auto' in 1.4. Set the value of `n_init` explicitly to suppress the warning\n",
            "  warnings.warn(\n",
            "/usr/local/lib/python3.10/dist-packages/sklearn/cluster/_kmeans.py:870: FutureWarning: The default value of `n_init` will change from 10 to 'auto' in 1.4. Set the value of `n_init` explicitly to suppress the warning\n",
            "  warnings.warn(\n",
            "/usr/local/lib/python3.10/dist-packages/sklearn/cluster/_kmeans.py:870: FutureWarning: The default value of `n_init` will change from 10 to 'auto' in 1.4. Set the value of `n_init` explicitly to suppress the warning\n",
            "  warnings.warn(\n"
          ]
        },
        {
          "output_type": "stream",
          "name": "stdout",
          "text": [
            "Jumlah cluster terbaik berdasarkan silhouette score : 5\n"
          ]
        }
      ]
    },
    {
      "cell_type": "code",
      "source": [
        "kmeans = KMeans(n_clusters = best_num_clusters)\n",
        "cluster_labels = kmeans.fit_predict(data_normalized)"
      ],
      "metadata": {
        "colab": {
          "base_uri": "https://localhost:8080/"
        },
        "id": "TqDP8XBMFQ76",
        "outputId": "453bf49f-65d0-4ddf-8fc4-6819ee0537c9"
      },
      "execution_count": null,
      "outputs": [
        {
          "output_type": "stream",
          "name": "stderr",
          "text": [
            "/usr/local/lib/python3.10/dist-packages/sklearn/cluster/_kmeans.py:870: FutureWarning: The default value of `n_init` will change from 10 to 'auto' in 1.4. Set the value of `n_init` explicitly to suppress the warning\n",
            "  warnings.warn(\n"
          ]
        }
      ]
    },
    {
      "cell_type": "code",
      "source": [
        "cluster_centers = kmeans.cluster_centers_\n",
        "distances = np.zeros((data_normalized.shape[0], best_num_clusters))\n",
        "\n",
        "for i in range(best_num_clusters):\n",
        "  distances[:, i] = np.linalg.norm(data_normalized - cluster_centers[i], axis = 1)"
      ],
      "metadata": {
        "id": "JKX-MYkZFbLr"
      },
      "execution_count": null,
      "outputs": []
    },
    {
      "cell_type": "code",
      "source": [
        "new_cluster_centers = np.zeros_like(cluster_centers)\n",
        "\n",
        "for i in range(best_num_clusters):\n",
        "  cluster_points = data_normalized[cluster_labels == i]\n",
        "  new_cluster_centers[i] = np.mean(cluster_points, axis = 0)\n",
        "\n",
        "kmeans.cluster_centers_ = new_cluster_centers"
      ],
      "metadata": {
        "id": "DJIS7dYYF1Sh"
      },
      "execution_count": null,
      "outputs": []
    },
    {
      "cell_type": "code",
      "source": [
        "for _ in range(10):\n",
        "  cluster_labels = kmeans.predict(data_normalized)\n",
        "  new_cluster_centers = np.zeros_like(cluster_centers)\n",
        "\n",
        "  for i in range(best_num_clusters):\n",
        "    cluster_points = data_normalized[cluster_labels == i]\n",
        "    new_cluster_centers[i] = np.mean(cluster_points, axis = 0)\n",
        "\n",
        "  kmeans.cluster_centers_ = new_cluster_centers"
      ],
      "metadata": {
        "id": "ARJRpBoCGRtR"
      },
      "execution_count": null,
      "outputs": []
    },
    {
      "cell_type": "code",
      "source": [
        "cluster_labels = kmeans.predict(data_normalized)\n",
        "silhouette_avg = silhouette_score(data_normalized, cluster_labels)\n",
        "print(\"Silhouette score :\", silhouette_avg)"
      ],
      "metadata": {
        "colab": {
          "base_uri": "https://localhost:8080/"
        },
        "id": "CTekT0M-GwKy",
        "outputId": "cce47751-79f9-4e42-e109-01500b678c26"
      },
      "execution_count": null,
      "outputs": [
        {
          "output_type": "stream",
          "name": "stdout",
          "text": [
            "Silhouette score : 0.0154551515440595\n"
          ]
        }
      ]
    }
  ]
}